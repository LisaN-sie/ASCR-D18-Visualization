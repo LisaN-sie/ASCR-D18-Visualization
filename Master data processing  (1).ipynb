{
 "cells": [
  {
   "cell_type": "code",
   "execution_count": 17,
   "metadata": {},
   "outputs": [
    {
     "name": "stdout",
     "output_type": "stream",
     "text": [
      "Beginning data processing...\n",
      "Data processing finished.\n",
      "This is the preprocessed Teradata output                          TS_ID       Value  QUALITYGOOD Unit\n",
      "Timestamp                                                   \n",
      "2019-04-01 00:01:23.460    231    1.000000            1  NaN\n",
      "2019-04-01 00:01:23.460    235    1.000000            1  NaN\n",
      "2019-04-01 00:02:35.960    230  285.200012            1   Pa\n",
      "2019-04-01 00:02:37.120    191   22.039999            1   °C\n",
      "2019-04-01 00:02:37.190    209   22.799999            1   °C\n",
      "Beginning data processing...\n",
      "Data processing finished.\n",
      "This is the preprocessed DesigoCC WSI output                              Value  QualityGood\n",
      "Timestamp                                      \n",
      "2015-10-23 02:27:53.340  11.400000         True\n",
      "2015-10-23 02:57:54.140  11.320000         True\n",
      "2015-10-23 03:27:54.180  12.679999         True\n",
      "2015-10-23 03:57:55.280  13.280000         True\n",
      "2015-10-23 04:27:55.300  11.540000         True\n"
     ]
    }
   ],
   "source": [
    "import pandas as pd\n",
    "import numpy as np\n",
    "import dateutil\n",
    "\n",
    "###reading raw csv file\n",
    "\n",
    "df =  pd.read_csv('2019_D18_BT1_L04/D18_BT1_L04_abluft_befehl_2019.csv', engine='python', encoding='ISO-8859–1', parse_dates=True)\n",
    "\n",
    "###preprocessing data from teradata\n",
    "def process_data(df):\n",
    "    print(\"Beginning data processing...\")\n",
    "    df = df.rename(columns={\"ï»¿TS_ID\": \"TS_ID\", 'TS_TIMESTAMP' : 'Timestamp', 'TREND_VALUE':'Value'})\n",
    "    df = df.sort_values('Timestamp')\n",
    "    df['Timestamp'] = pd.to_datetime(df['Timestamp'])\n",
    "    df = df.set_index(pd.DatetimeIndex(df['Timestamp']))\n",
    "    df = df.loc[df['QUALITYGOOD'] == 1]\n",
    "    df = df.drop(columns=['Timestamp'])\n",
    "    print(\"Data processing finished.\")\n",
    "    return df\n",
    "\n",
    "###processing data from WSI (Gabriel)\n",
    "def preprocess(df):\n",
    "    print(\"Beginning data processing...\")\n",
    "    df = df.sort_values('Timestamp')\n",
    "    df['Timestamp'] = pd.to_datetime(df['Timestamp'])\n",
    "    df = df.set_index(pd.DatetimeIndex(df['Timestamp']))\n",
    "    df = df.loc[df['QualityGood'] == 1]\n",
    "    df = df.drop(columns=['Quality', 'Timestamp'])\n",
    "    print(\"Data processing finished.\")\n",
    "    return df\n",
    "\n",
    "### processed example files\n",
    "df = preprocess(df)\n",
    "print(\"This is the preprocessed DesigoCC WSI output\"\n")"
    "df.head()"
   ]
  },
  {
   "cell_type": "code",
   "execution_count": 15,
   "metadata": {},
   "outputs": [
    {
     "data": {
      "text/html": [
       "<div>\n",
       "<style scoped>\n",
       "    .dataframe tbody tr th:only-of-type {\n",
       "        vertical-align: middle;\n",
       "    }\n",
       "\n",
       "    .dataframe tbody tr th {\n",
       "        vertical-align: top;\n",
       "    }\n",
       "\n",
       "    .dataframe thead th {\n",
       "        text-align: right;\n",
       "    }\n",
       "</style>\n",
       "<table border=\"1\" class=\"dataframe\">\n",
       "  <thead>\n",
       "    <tr style=\"text-align: right;\">\n",
       "      <th></th>\n",
       "      <th>Value</th>\n",
       "      <th>QualityGood</th>\n",
       "    </tr>\n",
       "    <tr>\n",
       "      <th>Timestamp</th>\n",
       "      <th></th>\n",
       "      <th></th>\n",
       "    </tr>\n",
       "  </thead>\n",
       "  <tbody>\n",
       "    <tr>\n",
       "      <th>2019-05-25 00:13:16.390</th>\n",
       "      <td>13.40</td>\n",
       "      <td>True</td>\n",
       "    </tr>\n",
       "    <tr>\n",
       "      <th>2019-05-25 00:43:17.280</th>\n",
       "      <td>13.00</td>\n",
       "      <td>True</td>\n",
       "    </tr>\n",
       "    <tr>\n",
       "      <th>2019-05-25 01:13:17.300</th>\n",
       "      <td>12.84</td>\n",
       "      <td>True</td>\n",
       "    </tr>\n",
       "    <tr>\n",
       "      <th>2019-05-25 01:43:18.370</th>\n",
       "      <td>12.90</td>\n",
       "      <td>True</td>\n",
       "    </tr>\n",
       "    <tr>\n",
       "      <th>2019-05-25 02:13:18.420</th>\n",
       "      <td>12.12</td>\n",
       "      <td>True</td>\n",
       "    </tr>\n",
       "  </tbody>\n",
       "</table>\n",
       "</div>"
      ],
      "text/plain": [
       "                         Value  QualityGood\n",
       "Timestamp                                  \n",
       "2019-05-25 00:13:16.390  13.40         True\n",
       "2019-05-25 00:43:17.280  13.00         True\n",
       "2019-05-25 01:13:17.300  12.84         True\n",
       "2019-05-25 01:43:18.370  12.90         True\n",
       "2019-05-25 02:13:18.420  12.12         True"
      ]
     },
     "execution_count": 15,
     "metadata": {},
     "output_type": "execute_result"
    }
   ],
   "source": [
    "###resampling data\n",
    "\n",
    "#resampling (30T = 30 min steps)\n",
    "data_columns = ['Value']\n",
    "\n",
    "def resampling_data (df):\n",
    "    return df[data_columns].resample('30T').mean()\n",
    "\n",
    "###get subset of dataframe between certain dates\n",
    "\n",
    "###example\n",
    "\n",
    "df_date = df['2019-05-25' : '2019-09-30']\n",
    "\n",
    "df_date.head()"
   ]
  },
  {
   "cell_type": "markdown",
   "metadata": {},
   "source": []
  }
 ],
 "metadata": {
  "kernelspec": {
   "display_name": "Python 3",
   "language": "python",
   "name": "python3"
  },
  "language_info": {
   "codemirror_mode": {
    "name": "ipython",
    "version": 3
   },
   "file_extension": ".py",
   "mimetype": "text/x-python",
   "name": "python",
   "nbconvert_exporter": "python",
   "pygments_lexer": "ipython3",
   "version": "3.7.0"
  }
 },
 "nbformat": 4,
 "nbformat_minor": 2
}
