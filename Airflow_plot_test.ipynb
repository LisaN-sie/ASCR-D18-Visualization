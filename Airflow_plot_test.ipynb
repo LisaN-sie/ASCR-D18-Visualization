{
 "cells": [
  {
   "cell_type": "markdown",
   "metadata": {},
   "source": [
    "**FIRST STEPS**\n",
    "\n",
    "import libraries for data processing\n",
    "\n",
    "simple function to process the data coming from DesigoCC WSI "
   ]
  },
  {
   "cell_type": "code",
   "execution_count": 1,
   "metadata": {},
   "outputs": [],
   "source": [
    "import pandas as pd\n",
    "import numpy as np\n",
    "import dateutil\n",
    "\n",
    "def preprocess(df):\n",
    "    print(\"Beginning data processing...\")\n",
    "    df = df.sort_values('Timestamp')\n",
    "    df['Timestamp'] = pd.to_datetime(df['Timestamp'])\n",
    "    df = df.set_index(pd.DatetimeIndex(df['Timestamp']))\n",
    "    df = df.loc[df['QualityGood'] == 1]\n",
    "    df = df.drop(columns=['Quality', 'Timestamp'])\n",
    "    print(\"Data processing finished.\")\n",
    "    return df"
   ]
  },
  {
   "cell_type": "markdown",
   "metadata": {},
   "source": [
    "**EXAMPLE csv files**\n",
    "downloaded from DesigoCC WSI. They contain data of the air ventilation system in D18 building component BT1, L04 classrooms\n",
    "\n",
    "Timestamps: \n",
    "\n",
    "- for air pressure difference (Pa), air temperature (°C) and fu (%) (supply + exhaust air sensors): every 5 minutes\n",
    "- for control system values (binary on/off mode): time-controlled/irregularly\n",
    "- for L04 outside temperature: every 30 minutes\n",
    "- for L04 max. roomtemperature: every 5 minutes"
   ]
  },
  {
   "cell_type": "code",
   "execution_count": null,
   "metadata": {},
   "outputs": [],
   "source": [
    "#exhaust air\n",
    "\n",
    "abluft_pa = pd.read_csv('2019_D18_BT1_L04/D18_BT1_L04_abluft_paDruck_2019.csv', engine='python', encoding='ISO-8859–1', parse_dates=True)\n",
    "abluft_pa = preprocess(abluft_pa)\n",
    "\n",
    "abluft_fu = pd.read_csv('2019_D18_BT1_L04/D18_BT1_L04_abluft_FU_2019.csv', engine='python', encoding='ISO-8859–1', parse_dates=True)\n",
    "abluft_fu = preprocess(abluft_fu)\n",
    "\n",
    "#supply air\n",
    "\n",
    "zuluft_pa = pd.read_csv('2019_D18_BT1_L04/D18_BT1_L04_zuluft_paDruck_2019.csv', engine='python', encoding='ISO-8859–1', parse_dates=True)\n",
    "zuluft_pa = preprocess(zuluft_pa)\n",
    "\n",
    "zuluft_fu = pd.read_csv('2019_D18_BT1_L04/D18_BT1_L04_zuluft_FU_2019.csv', engine='python', encoding='ISO-8859–1', parse_dates=True)\n",
    "zuluft_fu = preprocess(zuluft_fu)"
   ]
  },
  {
   "cell_type": "markdown",
   "metadata": {},
   "source": [
    "**Calculating air flow volume [m3/min]**\n",
    "\n",
    "The formula below returns the air flow volume in m3/min on the basis of two variables:\n",
    "    \n",
    "- air density at 20°C= 1.2\n",
    "- cross-sectional area of the airvent-pipe [m2] - this is an assumption, because the exact size is not known = 0.2"
   ]
  },
  {
   "cell_type": "code",
   "execution_count": null,
   "metadata": {},
   "outputs": [],
   "source": [
    "#air flow volume in [m3/min] - without *60 it is m3/s, with *3600 it would be m3/h\n",
    "\n",
    "def airflow(pa_value):\n",
    "    if (pa_value > 0).any():\n",
    "        return((0.2*(np.sqrt((2*pa_value)/1.2)))*60)\n",
    "    \n",
    "def airflow_hour(pa_value):\n",
    "    if (pa_value > 0).any():\n",
    "        return((0.2*(np.sqrt((2*pa_value)/1.2)))*3600)\n",
    "\n",
    "abluft_pa['airflow'] = airflow(abluft_pa.Value)\n",
    "zuluft_pa['airflow'] = airflow(zuluft_pa.Value)\n",
    "\n",
    "abluft_pa['airflow_hour'] = airflow_hour(abluft_pa.Value)\n",
    "zuluft_pa['airflow_hour'] = airflow_hour(zuluft_pa.Value)"
   ]
  },
  {
   "cell_type": "markdown",
   "metadata": {},
   "source": [
    "**Visualization of pa_values, air flow volume**"
   ]
  },
  {
   "cell_type": "code",
   "execution_count": null,
   "metadata": {},
   "outputs": [],
   "source": [
    "import plotly.io as pio\n",
    "from plotly.subplots import make_subplots\n",
    "\n",
    "pio.templates.default = \"plotly_white\"\n",
    "\n",
    "\n",
    "fig = make_subplots(specs=[[{\"secondary_y\": True}]])\n",
    "\n",
    "#add data\n",
    "fig.add_scatter(secondary_y=False, x=abluft_pa.index, y=abluft_pa.Value, mode=\"markers\",\n",
    "                marker_color=\"#dc9200\", name=\"L04_Differenzdruck_Abluft\")\n",
    "fig.add_scatter(secondary_y=True, fill='tozeroy', mode='none', x=abluft_pa.index, y=abluft_pa.airflow,\n",
    "                marker_color=\"#d49900\", opacity= 0.8, name=\"Calculated AirFlow Rate_Abluft (A=0.2m3)\")\n",
    "\n",
    "fig.add_scatter(secondary_y=False, x=zuluft_pa.index, y=zuluft_pa.Value, mode=\"markers\",\n",
    "                marker_color=\"#704c80\", name=\"L04_Differenzdruck_Zuluft\")\n",
    "fig.add_scatter(secondary_y=True, fill='tozeroy', mode='none', x=zuluft_pa.index, y=zuluft_pa.airflow,\n",
    "                marker_color=\"#70566e\", opacity= 0.8,  name=\"Calculated AirFlow Rate_Zuluft (A=0.2m3)\")\n",
    "\n",
    "\n",
    "\n",
    "#yaxis + layout\n",
    "fig.update_yaxes(secondary_y=False,\n",
    "                 tickfont_color=\"#666666\", title=\"Δp = Druckänderung (N/m2)\")\n",
    "fig.update_yaxes(secondary_y=True,\n",
    "                 tickfont_color=\"#666666\", title=\"volume in m3/min\")\n",
    "fig.update_layout(title_text=\"Air pressure difference and calculated air flow rate for L04 D18\", legend=dict(x=1.1, y=1))\n",
    "\n",
    "\n",
    "# Add range slider (optional)\n",
    "\n",
    "#fig.update_layout(\n",
    "#    xaxis=go.layout.XAxis(\n",
    "#        rangeselector=dict(\n",
    "#            buttons=list([\n",
    "#                dict(count=1,\n",
    "#                     label=\"1d\",\n",
    "#                     step=\"day\",\n",
    "#                     stepmode=\"backward\"),\n",
    "#                dict(count=1,\n",
    "#                     label=\"1m\",\n",
    "#                     step=\"month\",\n",
    "#                     stepmode=\"backward\"),\n",
    "#                dict(step=\"all\")\n",
    "#            ])\n",
    "#        ),\n",
    "#        rangeslider=dict(\n",
    "#            visible=True\n",
    "#        ),\n",
    "#        type=\"date\"\n",
    "#    )\n",
    "#)\n",
    "\n",
    "fig.show()\n",
    "\n",
    "#saving plot\n",
    "fig.write_html(\"AirFlowRate_D18_L04_2019.html\")"
   ]
  }
 ],
 "metadata": {
  "kernelspec": {
   "display_name": "Python 3",
   "language": "python",
   "name": "python3"
  },
  "language_info": {
   "codemirror_mode": {
    "name": "ipython",
    "version": 3
   },
   "file_extension": ".py",
   "mimetype": "text/x-python",
   "name": "python",
   "nbconvert_exporter": "python",
   "pygments_lexer": "ipython3",
   "version": "3.7.0"
  }
 },
 "nbformat": 4,
 "nbformat_minor": 2
}
